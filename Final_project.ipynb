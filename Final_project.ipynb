{
  "nbformat": 4,
  "nbformat_minor": 0,
  "metadata": {
    "colab": {
      "private_outputs": true,
      "provenance": []
    },
    "kernelspec": {
      "name": "python3",
      "display_name": "Python 3"
    },
    "language_info": {
      "name": "python"
    }
  },
  "cells": [
    {
      "cell_type": "code",
      "execution_count": null,
      "metadata": {
        "id": "Npf42T5JrGB7"
      },
      "outputs": [],
      "source": [
        "import numpy as np\n",
        "import pandas as pd\n",
        "from sklearn.model_selection import train_test_split, cross_val_score\n",
        "from sklearn.linear_model import LinearRegression\n",
        "from sklearn.metrics import mean_squared_error, r2_score, accuracy_score, f1_score, precision_score, recall_score\n",
        "import matplotlib.pyplot as plt\n",
        "import seaborn as sns\n",
        "from sklearn.ensemble import RandomForestRegressor\n"
      ]
    },
    {
      "cell_type": "markdown",
      "source": [
        "**(2)Load the dataset**"
      ],
      "metadata": {
        "id": "9KsWEq0jxkgW"
      }
    },
    {
      "cell_type": "code",
      "source": [
        "from sklearn.datasets import fetch_california_housing\n",
        "data = fetch_california_housing()\n",
        "df = pd.DataFrame(data.data, columns=data.feature_names)\n",
        "df['target'] = data.target\n"
      ],
      "metadata": {
        "id": "199eaSH9xjC3"
      },
      "execution_count": null,
      "outputs": []
    },
    {
      "cell_type": "code",
      "source": [
        "df.head()"
      ],
      "metadata": {
        "id": "w-arCqI0xodU"
      },
      "execution_count": null,
      "outputs": []
    },
    {
      "cell_type": "code",
      "source": [
        "df.describe()"
      ],
      "metadata": {
        "id": "EHKYNslTxyAO"
      },
      "execution_count": null,
      "outputs": []
    },
    {
      "cell_type": "code",
      "source": [
        "sns.heatmap(df.corr(), annot=True, cmap=\"coolwarm\")\n",
        "plt.show()\n",
        "\n"
      ],
      "metadata": {
        "id": "wi9jTDtmx7LE"
      },
      "execution_count": null,
      "outputs": []
    },
    {
      "cell_type": "code",
      "source": [
        "X=df.drop('target', axis=1)\n",
        "y=df['target']"
      ],
      "metadata": {
        "id": "qzH3UBBX6BpQ"
      },
      "execution_count": null,
      "outputs": []
    },
    {
      "cell_type": "code",
      "source": [
        "from sklearn.preprocessing import StandardScaler\n",
        "scaler=StandardScaler()\n",
        "X_scaled=scaler.fit_transform(X)"
      ],
      "metadata": {
        "id": "zmulUM956Eu_"
      },
      "execution_count": null,
      "outputs": []
    },
    {
      "cell_type": "code",
      "source": [
        "X_train, X_test, y_train, y_test=train_test_split(X_scaled, y, test_size=0.2, random_state=42)"
      ],
      "metadata": {
        "id": "fjruExyS6ZNO"
      },
      "execution_count": null,
      "outputs": []
    },
    {
      "cell_type": "code",
      "source": [
        "model1=LinearRegression()\n",
        "model1.fit(X_train, y_train)"
      ],
      "metadata": {
        "id": "jN8vU-vX6c6f"
      },
      "execution_count": null,
      "outputs": []
    },
    {
      "cell_type": "code",
      "source": [
        "model2=RandomForestRegressor()\n",
        "model2.fit(X_train, y_train)"
      ],
      "metadata": {
        "id": "7Cx1h8Ak6gax"
      },
      "execution_count": null,
      "outputs": []
    },
    {
      "cell_type": "code",
      "source": [
        "y_pred1=model1.predict(X_test)\n",
        "y_pred2=model2.predict(X_test)"
      ],
      "metadata": {
        "id": "x9UV1NHx6nbA"
      },
      "execution_count": null,
      "outputs": []
    },
    {
      "cell_type": "code",
      "source": [
        "mse=mean_squared_error(y_test, y_pred1)\n",
        "r2=r2_score(y_test, y_pred1)\n",
        "print(f\"MSE: {mse}\")\n",
        "print(f\"R2: {r2}\")"
      ],
      "metadata": {
        "id": "H00TzvVR6u34"
      },
      "execution_count": null,
      "outputs": []
    },
    {
      "cell_type": "code",
      "source": [
        "mse=mean_squared_error(y_test, y_pred2)\n",
        "r2=r2_score(y_test, y_pred2)\n",
        "print(f\"MSE: {mse}\")\n",
        "print(f\"R2: {r2}\")"
      ],
      "metadata": {
        "id": "REuelRYV6yJg"
      },
      "execution_count": null,
      "outputs": []
    },
    {
      "cell_type": "code",
      "source": [
        "from sklearn.model_selection import cross_val_score\n",
        "scores1=cross_val_score(model1, X_train, y_train, cv=5)\n",
        "scores2=cross_val_score(model2, X_train, y_train, cv=5)\n",
        "print(f\"Cross-validation scores for model1: {scores1}\")\n",
        "print(f\"Cross-validation scores for model2: {scores2}\")"
      ],
      "metadata": {
        "id": "2YXjuE0v62s4"
      },
      "execution_count": null,
      "outputs": []
    },
    {
      "cell_type": "code",
      "source": [
        "plt.scatter(y_test, y_pred1)\n",
        "plt.xlabel(\"Actual Values\")\n",
        "plt.ylabel(\"Predicted Values\")\n",
        "plt.title(\"Linear Regression Model\")\n",
        "plt.show()"
      ],
      "metadata": {
        "id": "X-gCcAP67J1S"
      },
      "execution_count": null,
      "outputs": []
    },
    {
      "cell_type": "code",
      "source": [
        "plt.scatter(y_test, y_pred2)\n",
        "plt.xlabel(\"Actual Values\")\n",
        "plt.ylabel(\"Predicted Values\")\n",
        "plt.title(\"Random Forest Regression Model\")\n",
        "plt.show()"
      ],
      "metadata": {
        "id": "l21VtlSf7OTJ"
      },
      "execution_count": null,
      "outputs": []
    }
  ]
}